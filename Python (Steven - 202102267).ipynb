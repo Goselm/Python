{
 "cells": [
  {
   "cell_type": "code",
   "execution_count": 4,
   "id": "54be49e4",
   "metadata": {},
   "outputs": [
    {
     "name": "stdout",
     "output_type": "stream",
     "text": [
      "Nama :  Steven\n",
      "Pendidikan Formal : \"\n",
      "1. SD BRUDER DAHLIA PONTIANAK\n",
      "2. SMP IMMANUEL PONTIANAK\n",
      "3. SMA PAULUS PONTIANAK\n",
      "Pendidikan Non Formal : Tidak ada\n",
      "Organisasi : Tidak ada\n",
      "Prestasi :  Juara 4 prince and princess pyhsic\n"
     ]
    }
   ],
   "source": [
    "#CV\n",
    "nama =\"Steven\"\n",
    "pendidikan_formal = \"\"\"\"\n",
    "1. SD BRUDER DAHLIA PONTIANAK\n",
    "2. SMP IMMANUEL PONTIANAK\n",
    "3. SMA PAULUS PONTIANAK\"\"\"\n",
    "prestasi =\"Juara 4 prince and princess pyhsic\"\n",
    "\n",
    "print(\"Nama : \", nama)\n",
    "print(\"Pendidikan Formal :\", pendidikan_formal)\n",
    "print(\"Pendidikan Non Formal : Tidak ada\")\n",
    "print(\"Organisasi : Tidak ada\")\n",
    "print(\"Prestasi : \", prestasi)"
   ]
  },
  {
   "cell_type": "code",
   "execution_count": 10,
   "id": "97173f0d",
   "metadata": {},
   "outputs": [
    {
     "name": "stdout",
     "output_type": "stream",
     "text": [
      "Panjang : 3\n",
      "Lebar : 4\n",
      "Luas Persegi Panjang:  12\n"
     ]
    }
   ],
   "source": [
    "#lUAS Persegi Panjang\n",
    "panjang = int(input(\"Panjang : \"))\n",
    "lebar = int(input(\"Lebar : \"))\n",
    "\n",
    "luas = panjang * lebar\n",
    "print(\"Luas Persegi Panjang: \",luas)"
   ]
  },
  {
   "cell_type": "code",
   "execution_count": 13,
   "id": "2f26b4a3",
   "metadata": {},
   "outputs": [
    {
     "name": "stdout",
     "output_type": "stream",
     "text": [
      "Celcius : 20\n",
      "Reamur :40\n",
      "Farenheit : 36\n",
      "Reamur -> Celcius :  50.0\n",
      "Farenheit -> Celcius : 2.2222222222222223\n",
      "Celcius -> Reamur :  16.0\n",
      "Farenheit -> Reamur :  3.5555555555555554\n",
      "Celcius -> Farenheit : 68.0\n",
      "Reamur -> Farenheit : 122.0\n"
     ]
    }
   ],
   "source": [
    "#Konevrsi Suhu\n",
    "celcius = float(input(\"Celcius : \"))\n",
    "reamur = float(input(\"Reamur :\"))\n",
    "farenheit = float(input(\"Farenheit : \"))\n",
    "\n",
    "reamur_celcius = reamur * 5/4\n",
    "farenheit_celcius = 5/9 * (farenheit - 32)\n",
    "celcius_reamur = celcius * 4/5\n",
    "farenheit_reamur = 4/9 * (reamur - 32)\n",
    "celcius_farenheit = (9/5 * celcius) + 32\n",
    "reamur_farenheit = (9/4 * reamur) + 32\n",
    "print(\"Reamur -> Celcius : \", reamur_celcius)\n",
    "print(\"Farenheit -> Celcius :\", farenheit_celcius)\n",
    "print(\"Celcius -> Reamur : \", celcius_reamur)\n",
    "print(\"Farenheit -> Reamur : \", farenheit_reamur)\n",
    "print(\"Celcius -> Farenheit :\", celcius_farenheit)\n",
    "print(\"Reamur -> Farenheit :\", reamur_farenheit)\n"
   ]
  },
  {
   "cell_type": "code",
   "execution_count": 16,
   "id": "24788ef7",
   "metadata": {},
   "outputs": [
    {
     "name": "stdout",
     "output_type": "stream",
     "text": [
      "Masukkan Detik : 172800\n",
      "Hari :  2\n",
      "Jam : 48\n",
      "Menit :  2880\n"
     ]
    }
   ],
   "source": [
    "#Konversi Detik\n",
    "detik = int(input(\"Masukkan Detik : \"))\n",
    "\n",
    "hari = int(detik / 86400)\n",
    "jam = int(detik / 3600)\n",
    "menit = int(detik / 60)\n",
    "\n",
    "print(\"Hari : \",hari)\n",
    "print(\"Jam :\",jam)\n",
    "print(\"Menit : \", menit)"
   ]
  },
  {
   "cell_type": "code",
   "execution_count": 17,
   "id": "4858be8e",
   "metadata": {},
   "outputs": [
    {
     "name": "stdout",
     "output_type": "stream",
     "text": [
      "Masukkan Jari - Jari : 4\n",
      "Luasnya adalah 50.24\n"
     ]
    }
   ],
   "source": [
    "#Luas Lingkaran\n",
    "phi = 3.14\n",
    "r = float(input(\"Masukkan Jari - Jari : \"))\n",
    "\n",
    "luas = float(phi * r * r)\n",
    "print(\"Luasnya adalah\", luas)"
   ]
  },
  {
   "cell_type": "code",
   "execution_count": null,
   "id": "9b85819b",
   "metadata": {},
   "outputs": [],
   "source": []
  }
 ],
 "metadata": {
  "kernelspec": {
   "display_name": "Python 3",
   "language": "python",
   "name": "python3"
  },
  "language_info": {
   "codemirror_mode": {
    "name": "ipython",
    "version": 3
   },
   "file_extension": ".py",
   "mimetype": "text/x-python",
   "name": "python",
   "nbconvert_exporter": "python",
   "pygments_lexer": "ipython3",
   "version": "3.8.8"
  }
 },
 "nbformat": 4,
 "nbformat_minor": 5
}
